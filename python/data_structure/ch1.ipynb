{
 "cells": [
  {
   "cell_type": "code",
   "execution_count": 14,
   "metadata": {},
   "outputs": [
    {
     "data": {
      "text/plain": [
       "False"
      ]
     },
     "execution_count": 14,
     "metadata": {},
     "output_type": "execute_result"
    }
   ],
   "source": [
    "def is_multiple(n,m):\n",
    "    return not bool(n%m)\n",
    "is_multiple(20,3)"
   ]
  },
  {
   "cell_type": "code",
   "execution_count": 10,
   "metadata": {},
   "outputs": [
    {
     "data": {
      "text/plain": [
       "False"
      ]
     },
     "execution_count": 10,
     "metadata": {},
     "output_type": "execute_result"
    }
   ],
   "source": [
    "def iseven(k):\n",
    "    k = abs(k)\n",
    "    while k>0:\n",
    "        k-=2\n",
    "    return not bool(k)\n",
    "iseven(12)\n",
    "iseven(9)"
   ]
  },
  {
   "cell_type": "code",
   "execution_count": 15,
   "metadata": {},
   "outputs": [
    {
     "data": {
      "text/plain": [
       "(1, 55)"
      ]
     },
     "execution_count": 15,
     "metadata": {},
     "output_type": "execute_result"
    }
   ],
   "source": [
    "def minmax(data):\n",
    "    min = data[0]\n",
    "    max = data[0]\n",
    "    for i in range(1,len(data)):\n",
    "        if data[i] < min:\n",
    "            min = data[i]\n",
    "        if data[i] > max:\n",
    "            max = data[i]\n",
    "    return (min,max)\n",
    "minmax([1,2,3,4,55,6,7])"
   ]
  },
  {
   "cell_type": "code",
   "execution_count": 38,
   "metadata": {},
   "outputs": [
    {
     "data": {
      "text/plain": [
       "49"
      ]
     },
     "execution_count": 38,
     "metadata": {},
     "output_type": "execute_result"
    }
   ],
   "source": [
    "def sum1(n):\n",
    "    sum =0\n",
    "    for i in range(n):\n",
    "        sum += i^2\n",
    "    return sum\n",
    "sum1(10)"
   ]
  },
  {
   "cell_type": "code",
   "execution_count": 39,
   "metadata": {},
   "outputs": [],
   "source": [
    "def sum2(n):\n",
    "    return sum(i^2 for i in range(n))"
   ]
  },
  {
   "cell_type": "code",
   "execution_count": 50,
   "metadata": {},
   "outputs": [
    {
     "data": {
      "text/plain": [
       "[1, 2, 4, 8, 16, 32, 64, 128, 256]"
      ]
     },
     "execution_count": 50,
     "metadata": {},
     "output_type": "execute_result"
    }
   ],
   "source": [
    "A = [2**i for i in range(9)]\n",
    "A"
   ]
  },
  {
   "cell_type": "code",
   "execution_count": 4,
   "metadata": {},
   "outputs": [
    {
     "data": {
      "text/plain": [
       "(3, 5)"
      ]
     },
     "execution_count": 4,
     "metadata": {},
     "output_type": "execute_result"
    }
   ],
   "source": [
    "def distinct_odd_product(list):\n",
    "    for i in range(len(list)):\n",
    "        for j in range(i,len(list)):\n",
    "            if ((list[i]* list[j])%2!=0) and list[i]!=list[j]:\n",
    "                return (list[i],list[j])\n",
    "distinct_odd_product([2,3,4,5])\n"
   ]
  },
  {
   "cell_type": "code",
   "execution_count": 8,
   "metadata": {},
   "outputs": [
    {
     "data": {
      "text/plain": [
       "True"
      ]
     },
     "execution_count": 8,
     "metadata": {},
     "output_type": "execute_result"
    }
   ],
   "source": [
    "def check_unique(list):\n",
    "    if len(set(list)) == len(list):\n",
    "        return True\n",
    "    return False\n",
    "check_unique([1,2,3,4,5,6])"
   ]
  },
  {
   "cell_type": "markdown",
   "metadata": {},
   "source": [
    "C-1.13\n",
    "Reverse a list by popping of the list until the original list is empty,\n",
    "\n",
    "or for every element in the list start will the the last element\n",
    "newlist[] = list[]\n",
    "\n",
    "or use slicing [::-1]\n",
    "\n"
   ]
  },
  {
   "cell_type": "markdown",
   "metadata": {},
   "source": []
  },
  {
   "cell_type": "code",
   "execution_count": 1,
   "metadata": {},
   "outputs": [
    {
     "data": {
      "text/plain": [
       "[1, 3]"
      ]
     },
     "execution_count": 1,
     "metadata": {},
     "output_type": "execute_result"
    }
   ],
   "source": [
    "num_list=[1,2,3]\n",
    "num_list.remove(2)\n",
    "num_list"
   ]
  },
  {
   "cell_type": "code",
   "execution_count": 24,
   "metadata": {},
   "outputs": [
    {
     "name": "stdout",
     "output_type": "stream",
     "text": [
      "n<k 2\n"
     ]
    },
    {
     "data": {
      "text/plain": [
       "[2, 1]"
      ]
     },
     "execution_count": 24,
     "metadata": {},
     "output_type": "execute_result"
    }
   ],
   "source": [
    "nums = [1,2]\n",
    "n = len(nums)\n",
    "k = 3\n",
    "if k<n:\n",
    "    nums[:] = nums[n-k:] + nums[:n-k]  \n",
    "else:\n",
    "    nums[:] =nums[::-1]\n",
    "    print(\"n<k\",n)\n",
    "nums\n"
   ]
  },
  {
   "cell_type": "code",
   "execution_count": 4,
   "metadata": {},
   "outputs": [
    {
     "data": {
      "text/plain": [
       "[10, 9, 8, 7, 6, 5, 4, 3, 2]"
      ]
     },
     "execution_count": 4,
     "metadata": {},
     "output_type": "execute_result"
    }
   ],
   "source": [
    "list(range(10,1,-1))"
   ]
  },
  {
   "cell_type": "code",
   "execution_count": 5,
   "metadata": {},
   "outputs": [
    {
     "name": "stdout",
     "output_type": "stream",
     "text": [
      "1\n",
      "-1\n"
     ]
    }
   ],
   "source": [
    "def search(nums, target):\n",
    "    low = 0\n",
    "    high = len(nums) - 1\n",
    "    mid = high//2\n",
    "    while nums[mid] != target:\n",
    "        if (high < low):\n",
    "            print(low)\n",
    "            return -1\n",
    "        mid = low + (high - low) // 2\n",
    "        # print(nums,low,mid,high)\n",
    "        if nums[mid] < target:\n",
    "            low = mid + 1\n",
    "        elif nums[mid] > target:\n",
    "            high = mid - 1\n",
    "    return mid\n",
    "\n",
    "\n",
    "print(search([-1, 3, 5, 6], 2))\n"
   ]
  },
  {
   "cell_type": "code",
   "execution_count": 11,
   "metadata": {},
   "outputs": [],
   "source": [
    "def moveZero(nums):\n",
    "    count = 0\n",
    "    if len(nums) ==1:\n",
    "        return\n",
    "    \n",
    "    n = [i for i in nums if i !=0]\n",
    "    \n",
    "    for i in range(len(nums)):\n",
    "        if i < len(n):\n",
    "            nums[i] = n[i]\n",
    "        else:\n",
    "            nums[i] = 0\n",
    "    # for i in range(len(nums)):\n",
    "    #     if nums[i] == 0:\n",
    "    #         count+=1\n",
    "    #         print(nums[i],count)\n",
    "    #         nums[i] = nums[count]\n",
    "    # for j in range(count):\n",
    "    #     nums[i] = 0\n",
    "                \n",
    "    print(nums)\n",
    "\n",
    "moveZero([0])                 "
   ]
  },
  {
   "cell_type": "code",
   "execution_count": 17,
   "metadata": {},
   "outputs": [
    {
     "data": {
      "text/plain": [
       "'o'"
      ]
     },
     "execution_count": 17,
     "metadata": {},
     "output_type": "execute_result"
    }
   ],
   "source": [
    "s = ['h','e','l','o']\n",
    "n = len(s)//2\n",
    "for i in range(n):\n",
    "    temp = s[i]\n",
    "    s[i] = s[len(s)-i-1]\n",
    "    s[len(s)-i-1] = temp\n",
    "s.pop(0)\n",
    "     "
   ]
  },
  {
   "cell_type": "code",
   "execution_count": 25,
   "metadata": {},
   "outputs": [
    {
     "name": "stdout",
     "output_type": "stream",
     "text": [
      "find zero\n"
     ]
    },
    {
     "ename": "IndexError",
     "evalue": "list index out of range",
     "output_type": "error",
     "traceback": [
      "\u001b[1;31m---------------------------------------------------------------------------\u001b[0m",
      "\u001b[1;31mIndexError\u001b[0m                                Traceback (most recent call last)",
      "\u001b[1;32mc:\\Users\\atris\\coding-interview-university\\python\\data_structure\\ch1.ipynb Cell 17'\u001b[0m in \u001b[0;36m<cell line: 3>\u001b[1;34m()\u001b[0m\n\u001b[0;32m      <a href='vscode-notebook-cell:/c%3A/Users/atris/coding-interview-university/python/data_structure/ch1.ipynb#ch0000017?line=1'>2</a>\u001b[0m count \u001b[39m=\u001b[39m \u001b[39m0\u001b[39m\n\u001b[0;32m      <a href='vscode-notebook-cell:/c%3A/Users/atris/coding-interview-university/python/data_structure/ch1.ipynb#ch0000017?line=2'>3</a>\u001b[0m \u001b[39mfor\u001b[39;00m i \u001b[39min\u001b[39;00m \u001b[39mrange\u001b[39m(\u001b[39mlen\u001b[39m(s)):\n\u001b[1;32m----> <a href='vscode-notebook-cell:/c%3A/Users/atris/coding-interview-university/python/data_structure/ch1.ipynb#ch0000017?line=3'>4</a>\u001b[0m     \u001b[39mif\u001b[39;00m s[i]\u001b[39m==\u001b[39m\u001b[39m0\u001b[39m:\n\u001b[0;32m      <a href='vscode-notebook-cell:/c%3A/Users/atris/coding-interview-university/python/data_structure/ch1.ipynb#ch0000017?line=4'>5</a>\u001b[0m         \u001b[39mprint\u001b[39m(\u001b[39m\"\u001b[39m\u001b[39mfind zero\u001b[39m\u001b[39m\"\u001b[39m)\n\u001b[0;32m      <a href='vscode-notebook-cell:/c%3A/Users/atris/coding-interview-university/python/data_structure/ch1.ipynb#ch0000017?line=5'>6</a>\u001b[0m         s\u001b[39m.\u001b[39mpop(i)\n",
      "\u001b[1;31mIndexError\u001b[0m: list index out of range"
     ]
    }
   ],
   "source": [
    "s = [0,0,1]\n",
    "\n",
    "for i in range(len(s)):\n",
    "    if s[i]==0:\n",
    "        s.pop(i)\n",
    "        \n",
    "        \n",
    "\n",
    "s"
   ]
  },
  {
   "cell_type": "code",
   "execution_count": null,
   "metadata": {},
   "outputs": [],
   "source": []
  }
 ],
 "metadata": {
  "interpreter": {
   "hash": "c064b494cdd97294a52baeceba16248750f09a150b17bf9b63cdbe81a8bc7b95"
  },
  "kernelspec": {
   "display_name": "Python 3.8.5 64-bit ('base': conda)",
   "language": "python",
   "name": "python3"
  },
  "language_info": {
   "codemirror_mode": {
    "name": "ipython",
    "version": 3
   },
   "file_extension": ".py",
   "mimetype": "text/x-python",
   "name": "python",
   "nbconvert_exporter": "python",
   "pygments_lexer": "ipython3",
   "version": "3.9.2"
  },
  "orig_nbformat": 4
 },
 "nbformat": 4,
 "nbformat_minor": 2
}
